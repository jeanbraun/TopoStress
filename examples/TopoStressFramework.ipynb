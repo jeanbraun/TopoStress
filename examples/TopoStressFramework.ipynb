{
 "cells": [
  {
   "cell_type": "code",
   "execution_count": 1,
   "id": "ceabe6c2-0e42-496a-91ab-6237b0c4b044",
   "metadata": {},
   "outputs": [],
   "source": [
    "from fastscape.models import basic_model\n",
    "import numpy as np\n",
    "import matplotlib.pyplot as plt\n",
    "%load_ext xsimlab.ipython\n",
    "plt.style.use('dark_background')"
   ]
  },
  {
   "cell_type": "markdown",
   "id": "9fa0787a-eede-4377-83e0-31086a32d32e",
   "metadata": {},
   "source": [
    "## Xarray-simlab process to incorporate the TopoStress component to FastScape"
   ]
  },
  {
   "cell_type": "code",
   "execution_count": 2,
   "id": "4ad7b9e3-746b-428e-9434-a779a6769e67",
   "metadata": {},
   "outputs": [],
   "source": [
    "import numpy as np\n",
    "import xsimlab as xs\n",
    "import numba as nb\n",
    "import xarray as xr\n",
    "import TopoStresses as TS\n",
    "\n",
    "from fastscape.processes import RasterGrid2D, SurfaceTopography\n",
    "\n",
    "@xs.process\n",
    "class TopoStress:\n",
    "    nz = xs.variable(intent=\"in\",\n",
    "                     description=\"number of nodes in the z-direction\",\n",
    "                     default=5,\n",
    "                    )\n",
    "    zl = xs.variable(intent=\"in\",\n",
    "                     description=\"model depth\",\n",
    "                     default=10e3,\n",
    "                     attrs={\"units\": \"m\"},\n",
    "                    )\n",
    "    rhog = xs.variable(intent=\"in\",\n",
    "                       description=\"product of density by gravitational acceleration\",\n",
    "                       default=27468,\n",
    "                       attrs={\"units\": \"kg/m^2/s^2\"},\n",
    "                      )\n",
    "    ym = xs.variable(intent=\"in\",\n",
    "                     description=\"Young's modulus\",\n",
    "                     default=1e11,\n",
    "                     attrs={\"units\": \"Pa\"},\n",
    "                    )\n",
    "    pr = xs.variable(intent=\"in\",\n",
    "                     description=\"Poisson's ratio\",\n",
    "                     default=0.25,\n",
    "                    )\n",
    "    ks = xs.variable(intent=\"in\",\n",
    "                     description=\"von Mises yield stress\",\n",
    "                     default=-1,\n",
    "                     attrs={\"units\": \"Pa\"},\n",
    "                    )\n",
    "    exx = xs.variable(intent=\"in\",\n",
    "                      description=\"strain in x-direction\",\n",
    "                      default=0,\n",
    "                     )\n",
    "    eyy = xs.variable(intent=\"in\",\n",
    "                      description=\"strain in y-direction\",\n",
    "                      default=0,\n",
    "                     )\n",
    "    ibc = xs.variable(intent=\"in\",\n",
    "                      description=\"boundary condition\",\n",
    "                      default=1,\n",
    "                     )\n",
    "    sxx = xs.on_demand(dims=(\"y\",\"x\"),\n",
    "                       description=\"surface deviatoric sxx\",\n",
    "                       attrs={\"units\": \"Pa\"},\n",
    "                      )\n",
    "    \n",
    "    syy = xs.on_demand(dims=(\"y\",\"x\"),\n",
    "                       description=\"surface deviatoric syy\",\n",
    "                       attrs={\"units\": \"Pa\"},\n",
    "                      )\n",
    "\n",
    "    szz = xs.on_demand(dims=(\"y\",\"x\"),\n",
    "                       description=\"surface deviatoric szz\",\n",
    "                       attrs={\"units\": \"Pa\"},\n",
    "                      )\n",
    "\n",
    "    sxy = xs.on_demand(dims=(\"y\",\"x\"),\n",
    "                       description=\"surface deviatoric sxy\",\n",
    "                       attrs={\"units\": \"Pa\"},\n",
    "                      )\n",
    "\n",
    "    szx = xs.on_demand(dims=(\"y\",\"x\"),\n",
    "                       description=\"surface deviatoric szx\",\n",
    "                       attrs={\"units\": \"Pa\"},\n",
    "                      )\n",
    "\n",
    "    syz = xs.on_demand(dims=(\"y\",\"x\"),\n",
    "                       description=\"surface deviatoric syz\",\n",
    "                       attrs={\"units\": \"Pa\"},\n",
    "                      )\n",
    "\n",
    "    press = xs.on_demand(dims=(\"y\",\"x\"),\n",
    "                       description=\"pressure\",\n",
    "                       attrs={\"units\": \"Pa\"},\n",
    "                      )\n",
    "\n",
    "    j2d = xs.on_demand(dims=(\"y\",\"x\"),\n",
    "                       description=\"second invariant of stress tensor\",\n",
    "                       attrs={\"units\": \"Pa\"},\n",
    "                      )\n",
    "\n",
    "    elevation = xs.foreign(SurfaceTopography, \"elevation\",\n",
    "                           intent=\"in\")\n",
    "    shape = xs.foreign(RasterGrid2D, \"shape\",\n",
    "                      intent=\"in\")\n",
    "    length = xs.foreign(RasterGrid2D, \"shape\",\n",
    "                      intent=\"in\")\n",
    "    \n",
    "    def run_step(self):\n",
    "        self.stress_ = None   # reset the cached value at each time step\n",
    "        \n",
    "    @property\n",
    "    def _stress(self):\n",
    "        if self.stress_ is None:\n",
    "            ny, nx = self.shape\n",
    "            TS.topostresses_setup(nx, ny, self.nz)\n",
    "            yl, xl = self.length\n",
    "            TS.topostresses_set_xlylzl(xl, yl, self.zl)\n",
    "            TS.topostresses_set_mechanical_properties(self.rhog,self.exx,self.eyy,self.ym,self.pr,self.ks)\n",
    "            TS.topostresses_set_bc(self.ibc)\n",
    "            TS.topostresses_set_h(self.elevation.flatten())\n",
    "            TS.topostresses_execute()\n",
    "            stress = np.zeros(6*ny*nx*self.nz)\n",
    "            TS.topostresses_copy_stress(stress)\n",
    "            TS.topostresses_destroy()\n",
    "            self.stress_ = stress.reshape((6,self.nz,ny,nx))[:,-1,:,:]\n",
    "        return self.stress_\n",
    "\n",
    "    @sxx.compute\n",
    "    def _sxx(self):\n",
    "        return self._stress[0,:,:]\n",
    "\n",
    "    @syy.compute\n",
    "    def _syy(self):\n",
    "        return self._stress[1,:,:]\n",
    "\n",
    "    @szz.compute\n",
    "    def _szz(self):\n",
    "        return self._stress[2,:,:]\n",
    "    \n",
    "    @sxy.compute\n",
    "    def _sxy(self):\n",
    "        return self._stress[3,:,:]\n",
    "\n",
    "    @szx.compute\n",
    "    def _szx(self):\n",
    "        return self._stress[4,:,:]\n",
    "\n",
    "    @syz.compute\n",
    "    def _syz(self):\n",
    "        return self._stress[5,:,:]\n",
    "    \n",
    "    @press.compute\n",
    "    def _press(self):\n",
    "        return (self._stress[0,:,:]+self._stress[1,:,:]+self._stress[2,:,:])/3\n",
    "\n",
    "    @j2d.compute\n",
    "    def _j2d(self):\n",
    "        press = (self._stress[0,:,:]+self._stress[1,:,:]+self._stress[2,:,:])/3 \n",
    "        return np.sqrt(0.5*((self._stress[0,:,:]-press)**2+\n",
    "                            (self._stress[1,:,:]-press)**2+\n",
    "                            (self._stress[2,:,:]-press)**2)+\n",
    "                       self._stress[3,:,:]**2+\n",
    "                       self._stress[4,:,:]**2+\n",
    "                       self._stress[5,:,:]**2)\n"
   ]
  },
  {
   "cell_type": "markdown",
   "id": "3c4543ba-dcd4-4aab-8e30-6e98874749a6",
   "metadata": {},
   "source": [
    "## we add the process to the basic SPL model"
   ]
  },
  {
   "cell_type": "code",
   "execution_count": 3,
   "id": "d3ed4f7c-fb68-4c95-a235-0682040b1309",
   "metadata": {},
   "outputs": [],
   "source": [
    "model = basic_model.update_processes({\"topostress\": TopoStress})"
   ]
  },
  {
   "cell_type": "markdown",
   "id": "cb44ea5f-df50-43a0-8e1e-4bdb85d22ac3",
   "metadata": {},
   "source": [
    "## We prepare the input xarrayDataset\n",
    "Note that we request two outputs from TopoStress: the xy-component of the stress tensor and the second invariant of the deviatoric part of the stress tensor.\n",
    "\n",
    "Other components are available.\n",
    "\n",
    "Importantly the components are only computed at the last time step (as this requires some ressources)"
   ]
  },
  {
   "cell_type": "code",
   "execution_count": 15,
   "id": "faf56d02-0e94-4df0-9226-db9e55fe0d9d",
   "metadata": {},
   "outputs": [],
   "source": [
    "# %create_setup model --default\n",
    "import xsimlab as xs\n",
    "\n",
    "ds_in = xs.create_setup(\n",
    "    model=model,\n",
    "    clocks={\"time\": np.linspace(0,1e7,101),\n",
    "           \"out\": [1e7]},\n",
    "    master_clock = \"time\",\n",
    "    input_vars={\n",
    "        'grid__shape': [40,40],\n",
    "        'grid__length': [10e3,10e3],\n",
    "        'boundary__status': 'fixed_value',#['fixed_value','core','looped','looped'],\n",
    "        'uplift__rate': 5e-4,\n",
    "        'init_topography__seed': 123,\n",
    "        'diffusion__diffusivity': 0.01,\n",
    "        'spl__k_coef': 1e-5,\n",
    "        'spl__area_exp': 0.4,\n",
    "        'spl__slope_exp': 1,\n",
    "        'topostress__nz': 10,\n",
    "        'topostress__zl': 10e3,\n",
    "        'topostress__rhog': 27468,\n",
    "        'topostress__ym': 100000000000.0,\n",
    "        'topostress__pr': 0.25,\n",
    "        'topostress__ks': -1,\n",
    "        'topostress__exx': 0,\n",
    "        'topostress__eyy': 0,\n",
    "        'topostress__ibc': 2,\n",
    "    },\n",
    "    output_vars={\"topography__elevation\": \"out\",\n",
    "                \"topostress__sxy\": \"out\",\n",
    "                \"topostress__j2d\": \"out\"}\n",
    ")\n"
   ]
  },
  {
   "cell_type": "markdown",
   "id": "ae49ff29-3091-47cb-b26a-0c8f6007928a",
   "metadata": {},
   "source": [
    "## We run the simulation storing the output in a zarr directory called TopoStress.zarr"
   ]
  },
  {
   "cell_type": "code",
   "execution_count": 16,
   "id": "0254d1cd-4b70-4f1a-8295-375a88a694e5",
   "metadata": {},
   "outputs": [
    {
     "data": {
      "application/vnd.jupyter.widget-view+json": {
       "model_id": "7cc913fc37bc44ecb8c4283a9a28c861",
       "version_major": 2,
       "version_minor": 0
      },
      "text/plain": [
       "             0% | initialize "
      ]
     },
     "metadata": {},
     "output_type": "display_data"
    },
    {
     "name": "stdout",
     "output_type": "stream",
     "text": [
      " Computing node locations   3.5322109662483392E-003   1057.6107283186984     \n",
      " Computing connectivity\n",
      " Computing elastic matrix\n",
      " Computing FE matrix\n",
      " Computing RHS vector\n",
      " Computing solution\n",
      " Computing stresses\n",
      " Check for convergence\n",
      " Convergence ratio   1.0000000000000000     \n"
     ]
    }
   ],
   "source": [
    "import zarr\n",
    "zgroup = zarr.group(\"TopoStress.zarr\", overwrite=True)\n",
    "\n",
    "with xs.monitoring.ProgressBar():\n",
    "    ds_out = ds_in.xsimlab.run(model=model, store=zgroup)"
   ]
  },
  {
   "cell_type": "markdown",
   "id": "44cc9b98-ac51-4753-bcfb-b53133ab2710",
   "metadata": {},
   "source": [
    "## We display the xy-component of the stress tensor"
   ]
  },
  {
   "cell_type": "code",
   "execution_count": 17,
   "id": "f5dd7663-9997-4a66-8f6a-387e961df479",
   "metadata": {},
   "outputs": [
    {
     "name": "stdout",
     "output_type": "stream",
     "text": [
      "14139.599622490368\n"
     ]
    },
    {
     "data": {
      "image/png": "[encoded data removed]",
      "text/plain": [
       "<Figure size 432x288 with 2 Axes>"
      ]
     },
     "metadata": {},
     "output_type": "display_data"
    }
   ],
   "source": [
    "ds_out.topostress__sxy.isel(out=-1).plot()\n",
    "print(ds_out.topostress__sxy.isel(out=-1).max().values)"
   ]
  },
  {
   "cell_type": "markdown",
   "id": "59cfa860-fa1e-4c29-b738-8676bc86929a",
   "metadata": {},
   "source": [
    "We display the topography"
   ]
  },
  {
   "cell_type": "code",
   "execution_count": 18,
   "id": "196c5056-8dc8-484b-83d0-583bd14f094d",
   "metadata": {},
   "outputs": [
    {
     "data": {
      "text/plain": [
       "<matplotlib.collections.QuadMesh at 0x7fba19d5d940>"
      ]
     },
     "execution_count": 18,
     "metadata": {},
     "output_type": "execute_result"
    },
    {
     "data": {
      "image/png": "[encoded data removed]",
      "text/plain": [
       "<Figure size 432x288 with 2 Axes>"
      ]
     },
     "metadata": {},
     "output_type": "display_data"
    }
   ],
   "source": [
    "ds_out.topography__elevation.isel(out=-1).plot()"
   ]
  },
  {
   "cell_type": "markdown",
   "id": "af91d2ec-9795-466c-8d8d-332f37c079de",
   "metadata": {},
   "source": [
    "Note that the topography can be stored for use in another program/code by uncommenting the following line/cell"
   ]
  },
  {
   "cell_type": "code",
   "execution_count": 14,
   "id": "c906bc19-ead2-4f15-a25a-eff040d0cc85",
   "metadata": {},
   "outputs": [],
   "source": [
    "#np.savetxt('junk.txt',ds_out.topography__elevation.isel(out=-1).values)"
   ]
  },
  {
   "cell_type": "markdown",
   "id": "cacd379e-9bbe-4582-b0a2-dbca5d89fb69",
   "metadata": {},
   "source": [
    "## 3D visualizer"
   ]
  },
  {
   "cell_type": "code",
   "execution_count": 9,
   "id": "5f61416d-8619-42b8-8cce-e029aef2b504",
   "metadata": {},
   "outputs": [
    {
     "data": {
      "application/vnd.jupyter.widget-view+json": {
       "model_id": "a0ce4758dfc247a694e6eb8f54f651df",
       "version_major": 2,
       "version_minor": 0
      },
      "text/plain": [
       "Output(layout=Layout(height='840px'))"
      ]
     },
     "metadata": {},
     "output_type": "display_data"
    }
   ],
   "source": [
    "from ipyfastscape import TopoViz3d\n",
    "\n",
    "app = TopoViz3d(ds_out, canvas_height=800, time_dim=\"out\")\n",
    "\n",
    "app.show()"
   ]
  },
  {
   "cell_type": "code",
   "execution_count": null,
   "id": "5e6d77d9-0a72-4f84-82ed-c87f8701940b",
   "metadata": {},
   "outputs": [],
   "source": []
  }
 ],
 "metadata": {
  "kernelspec": {
   "display_name": "Python [conda env:TopoStress]",
   "language": "python",
   "name": "conda-env-TopoStress-py"
  },
  "language_info": {
   "codemirror_mode": {
    "name": "ipython",
    "version": 3
   },
   "file_extension": ".py",
   "mimetype": "text/x-python",
   "name": "python",
   "nbconvert_exporter": "python",
   "pygments_lexer": "ipython3",
   "version": "3.8.12"
  }
 },
 "nbformat": 4,
 "nbformat_minor": 5
}
