{
 "cells": [
  {
   "cell_type": "code",
   "execution_count": null,
   "id": "43cc8840-cd9e-4e7b-8546-23990359f36c",
   "metadata": {},
   "outputs": [],
   "source": [
    "import TopoStresses as TS\n",
    "import numpy as np\n",
    "import matplotlib.pyplot as plt"
   ]
  },
  {
   "cell_type": "code",
   "execution_count": null,
   "id": "2ae38ed5-ee24-4628-9a10-ed26092c9b93",
   "metadata": {},
   "outputs": [],
   "source": [
    "h = np.loadtxt('Topo_test.txt') # reads the test topography"
   ]
  },
  {
   "cell_type": "code",
   "execution_count": null,
   "id": "d2241d9a-3f33-44d9-b9e7-83808fad864a",
   "metadata": {},
   "outputs": [],
   "source": [
    "nx = 40 # model resolution in the x-direction\n",
    "ny = 40 # model resolution in the y-direction\n",
    "nz = 5 # model resolution in the z-direction\n",
    "xl = 10e3 # size of the model in the x-directoin (in m)\n",
    "yl = 10e3 # size of the model in the y-directoin (in m)\n",
    "zl = 10e3 # size of the model in the z-directoin (in m)\n",
    "rhog = 2800*9.81 # product of rho (density in kg/m^3) by g (in m/s^2)\n",
    "ym = 1e11 # Young's modulus (in Pa)\n",
    "pr = 0.25 # Poisson's ratio\n",
    "ks = -1. # yield stress (in Pa)\n",
    "exx = 0. # imposed strain in the x-directio\n",
    "eyy = 0. # imposed strain in the y-direction\n",
    "ibc = 2 # side bondary conditions\n",
    "# ibc=0 is free displacements \n",
    "# ibc=1 is no-slip\n",
    "# ibc=2 is free-slip\n",
    "# ibc=3 is no-tilt\n"
   ]
  },
  {
   "cell_type": "code",
   "execution_count": null,
   "id": "1c37223c-1c66-45c0-9e78-211c5f0560a0",
   "metadata": {},
   "outputs": [],
   "source": [
    "TS.topostresses_setup(nx, ny, nz) # initializes and sends the model resolution through the interface\n",
    "TS.topostresses_set_xlylzl(xl, yl, zl) # sends the model sizes through the interface\n",
    "TS.topostresses_set_mechanical_properties(rhog, exx, eyy, ym, pr, ks) # sends the mechanical properties through the interface\n",
    "TS.topostresses_set_bc(ibc) # sets the boundary conditions through the interface\n",
    "TS.topostresses_set_h(h.flatten()) #  sends the surface topography through the interface\n",
    "TS.topostresses_execute() # executes TopoStress\n",
    "stress = np.zeros((6*nx*ny*nz)) # allocates memory to store the stress tensor in a 1D array\n",
    "TS.topostresses_copy_stress(stress) # recovers the computed stresses through the interface\n",
    "TS.topostresses_destroy() # releases memory through the interface"
   ]
  },
  {
   "cell_type": "code",
   "execution_count": null,
   "id": "1c9d8e9f-6042-40a6-b8c1-43c40c47ba87",
   "metadata": {},
   "outputs": [],
   "source": [
    "print(stress.reshape((6,nz,ny,nx))[3,-1,:,:].min(),stress.reshape((6,nz,ny,nx))[3,-1,:,:].max())"
   ]
  },
  {
   "cell_type": "code",
   "execution_count": null,
   "id": "e7617599-d101-4f54-b27f-3ae5f6a85b91",
   "metadata": {},
   "outputs": [],
   "source": [
    "plt.contourf(h.reshape((nx,ny))) # plots the topography"
   ]
  },
  {
   "cell_type": "code",
   "execution_count": null,
   "id": "96f39e23-dd03-44be-922d-c706b7ba6836",
   "metadata": {},
   "outputs": [],
   "source": [
    "plt.contourf(stress.reshape((6,nz,ny,nx))[3,-1,:,:]) # plots the stress xy-component"
   ]
  },
  {
   "cell_type": "code",
   "execution_count": null,
   "id": "ff2345e7-cf96-4968-b34f-35013acd8e48",
   "metadata": {},
   "outputs": [],
   "source": []
  }
 ],
 "metadata": {
  "kernelspec": {
   "display_name": "Python [conda env:TopoStress]",
   "language": "python",
   "name": "conda-env-TopoStress-py"
  },
  "language_info": {
   "codemirror_mode": {
    "name": "ipython",
    "version": 3
   },
   "file_extension": ".py",
   "mimetype": "text/x-python",
   "name": "python",
   "nbconvert_exporter": "python",
   "pygments_lexer": "ipython3",
   "version": "3.8.12"
  }
 },
 "nbformat": 4,
 "nbformat_minor": 5
}
